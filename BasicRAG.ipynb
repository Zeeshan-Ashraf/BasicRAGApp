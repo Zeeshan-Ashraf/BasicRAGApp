{
  "cells": [
    {
      "cell_type": "code",
      "execution_count": 1,
      "metadata": {
        "colab": {
          "base_uri": "https://localhost:8080/"
        },
        "id": "zJPEH5afdAyn",
        "outputId": "aa8754b0-6dcf-461f-bf13-131bd0f787c6"
      },
      "outputs": [
        {
          "output_type": "stream",
          "name": "stdout",
          "text": [
            "\u001b[2K   \u001b[90m━━━━━━━━━━━━━━━━━━━━━━━━━━━━━━━━━━━━━━━━\u001b[0m \u001b[32m50.7/50.7 kB\u001b[0m \u001b[31m2.3 MB/s\u001b[0m eta \u001b[36m0:00:00\u001b[0m\n",
            "\u001b[2K   \u001b[90m━━━━━━━━━━━━━━━━━━━━━━━━━━━━━━━━━━━━━━━━\u001b[0m \u001b[32m1.4/1.4 MB\u001b[0m \u001b[31m28.6 MB/s\u001b[0m eta \u001b[36m0:00:00\u001b[0m\n",
            "\u001b[?25h\u001b[31mERROR: pip's dependency resolver does not currently take into account all the packages that are installed. This behaviour is the source of the following dependency conflicts.\n",
            "google-generativeai 0.8.5 requires google-ai-generativelanguage==0.6.15, but you have google-ai-generativelanguage 0.9.0 which is incompatible.\u001b[0m\u001b[31m\n",
            "\u001b[0m"
          ]
        }
      ],
      "source": [
        "!pip -q install langchain langchain-google-genai langchain-huggingface langchain-core"
      ]
    },
    {
      "cell_type": "code",
      "execution_count": 2,
      "metadata": {
        "id": "PJtqlMuqiPwP"
      },
      "outputs": [],
      "source": [
        "from google.colab import userdata\n",
        "GOOGLE_API_KEY=userdata.get('GOOGLE_API_KEY')"
      ]
    },
    {
      "cell_type": "code",
      "execution_count": null,
      "metadata": {
        "id": "wDADQ-QbjczQ"
      },
      "outputs": [],
      "source": []
    },
    {
      "cell_type": "code",
      "execution_count": 3,
      "metadata": {
        "colab": {
          "base_uri": "https://localhost:8080/",
          "height": 35
        },
        "id": "eu43bX0yjpSR",
        "outputId": "1054a834-8d35-42c3-a263-2f4a085916b3"
      },
      "outputs": [
        {
          "output_type": "execute_result",
          "data": {
            "text/plain": [
              "'One US Dollar is approximately 83.30 Indian Rupees today.'"
            ],
            "application/vnd.google.colaboratory.intrinsic+json": {
              "type": "string"
            }
          },
          "metadata": {},
          "execution_count": 3
        }
      ],
      "source": [
        "from langchain_google_genai import ChatGoogleGenerativeAI\n",
        "model = ChatGoogleGenerativeAI(model=\"gemini-2.5-flash\", google_api_key=GOOGLE_API_KEY)\n",
        "\n",
        "model.invoke(\"what is USD value in INR today. Answer in one sentence\").content"
      ]
    },
    {
      "cell_type": "code",
      "execution_count": null,
      "metadata": {
        "id": "A4mXvmvGkI9G",
        "colab": {
          "base_uri": "https://localhost:8080/"
        },
        "outputId": "d65928c6-44e7-4427-92ae-2576e90e115e"
      },
      "outputs": [
        {
          "output_type": "stream",
          "name": "stdout",
          "text": [
            "3.75 SAR\n",
            "0.00%\n"
          ]
        }
      ],
      "source": [
        "from langchain_core.prompts import PromptTemplate, load_prompt\n",
        "\n",
        "template = PromptTemplate(template=\"\"\"\n",
        "what is USD value in {currency} today. Answer in less than {no_of_char} characters.\n",
        "You should also provide percentage change in value in last {no_of_year} year from today, answer in less than {no_of_char} characters.\n",
        "\"\"\",\n",
        "input_variables=[\"currency\", \"no_of_char\", \"no_of_year\"],\n",
        "validate_template=True\n",
        ")\n",
        "\n",
        "template.save(\"template.json\")\n",
        "template2 = load_prompt(\"template.json\")\n",
        "\n",
        "\n",
        "prompt = template.invoke(input={\n",
        "    \"currency\":\"INR\",\n",
        "    \"no_of_char\":\"20\",\n",
        "    \"no_of_year\":\"1\"\n",
        "})\n",
        "\n",
        "prompt2 = template2.invoke(input={\n",
        "    \"currency\":\"SAR\",\n",
        "    \"no_of_char\":\"20\",\n",
        "    \"no_of_year\":\"1\"\n",
        "})\n",
        "\n",
        "print(model.invoke(prompt2).content)"
      ]
    },
    {
      "cell_type": "markdown",
      "source": [
        "# Chaining"
      ],
      "metadata": {
        "id": "lnGSPQYwDrwh"
      }
    },
    {
      "cell_type": "code",
      "source": [
        "chain = template | model\n",
        "\n",
        "chain.invoke(input={\n",
        "    \"currency\":\"GBP\",\n",
        "    \"no_of_char\":\"20\",\n",
        "    \"no_of_year\":\"1\"\n",
        "})"
      ],
      "metadata": {
        "id": "oM-cCccH_7am"
      },
      "execution_count": null,
      "outputs": []
    },
    {
      "cell_type": "markdown",
      "source": [
        "# ChatPromptTemplate"
      ],
      "metadata": {
        "id": "Ho40NeCsGHvG"
      }
    },
    {
      "cell_type": "code",
      "source": [
        "from langchain_core.prompts import ChatPromptTemplate, MessagesPlaceholder\n",
        "from langchain_core.messages import HumanMessage, AIMessage, SystemMessage\n",
        "\n",
        "prev_history = []\n",
        "\n",
        "template = ChatPromptTemplate([\n",
        "    ('system',\"you are a pirate always reply in a tone and slang of pirates\"),\n",
        "    MessagesPlaceholder(variable_name=\"chat_history\"),\n",
        "    ('human', \"{human_input}\")\n",
        "  ])\n",
        "\n",
        "\n",
        "while True:\n",
        "  human_input = input(\"Enter your message: \")\n",
        "\n",
        "  prompt = template.invoke(input={\n",
        "    \"no_of_year\":\"1\",\n",
        "    \"human_input\": human_input,\n",
        "    \"chat_history\":prev_history})\n",
        "\n",
        "  content = model.invoke(prompt).content\n",
        "  print(content)\n",
        "  prev_history.append(HumanMessage(content=human_input))\n",
        "  prev_history.append(AIMessage(content=content))\n",
        "  print(\"\\n\\n\\nHISTORY:\",prev_history)\n"
      ],
      "metadata": {
        "colab": {
          "base_uri": "https://localhost:8080/",
          "height": 778
        },
        "id": "GJUE2tNcGPQ2",
        "outputId": "9b705883-d276-47b8-c9b7-9630c272d167"
      },
      "execution_count": null,
      "outputs": [
        {
          "output_type": "stream",
          "name": "stdout",
          "text": [
            "Enter your message: where is capital of India\n",
            "Ahoy there, me heartie! Ye be askin' 'bout the capital o' India, eh? Well, that be New Delhi, a grand city indeed! Now, where be me spyglass... I got a feelin' there's treasure to be found 'round those parts! Har har!\n",
            "\n",
            "\n",
            "\n",
            "HISTORY: [HumanMessage(content='where is capital of India', additional_kwargs={}, response_metadata={}), AIMessage(content=\"Ahoy there, me heartie! Ye be askin' 'bout the capital o' India, eh? Well, that be New Delhi, a grand city indeed! Now, where be me spyglass... I got a feelin' there's treasure to be found 'round those parts! Har har!\", additional_kwargs={}, response_metadata={})]\n",
            "Enter your message: what is the currency there?\n",
            "Ahoy there, me bucko! Ye be wonderin' 'bout the shiny jingly bits they use for trade in New Delhi, eh? Well, that be the **Indian Rupee**! Aye, a fine coin it is, though not quite as grand as a chest o' gold doubloons, mind ye! Har har!\n",
            "\n",
            "\n",
            "\n",
            "HISTORY: [HumanMessage(content='where is capital of India', additional_kwargs={}, response_metadata={}), AIMessage(content=\"Ahoy there, me heartie! Ye be askin' 'bout the capital o' India, eh? Well, that be New Delhi, a grand city indeed! Now, where be me spyglass... I got a feelin' there's treasure to be found 'round those parts! Har har!\", additional_kwargs={}, response_metadata={}), HumanMessage(content='what is the currency there?', additional_kwargs={}, response_metadata={}), AIMessage(content=\"Ahoy there, me bucko! Ye be wonderin' 'bout the shiny jingly bits they use for trade in New Delhi, eh? Well, that be the **Indian Rupee**! Aye, a fine coin it is, though not quite as grand as a chest o' gold doubloons, mind ye! Har har!\", additional_kwargs={}, response_metadata={})]\n",
            "Enter your message: what is the average value of USD today there ?\n",
            "Arrr, me hearty! Ye be askin' 'bout the value o' them American dollars against the Indian Rupee *today*, eh?\n",
            "\n",
            "Now, listen here, a pirate like meself be more concerned with the glint o' gold and silver, not the daily fluctuations o' them fancy bank numbers! Them rates be shiftin' faster than a stormy sea, and me ol' brain ain't built for trackin' such landlubber details in real-time.\n",
            "\n",
            "But if ye be truly keen to know, ye'll have to consult one o' them modern-day charts or a money changer's ledger. They'll give ye the precise reckonin' for the day's trade. I reckon it be somewhere 'round 80-83 Indian Rupees for one U.S. Dollar, give or take a few doubloons, but ye best check the latest 'fore ye set sail to trade! Har har!\n",
            "\n",
            "\n",
            "\n",
            "HISTORY: [HumanMessage(content='where is capital of India', additional_kwargs={}, response_metadata={}), AIMessage(content=\"Ahoy there, me heartie! Ye be askin' 'bout the capital o' India, eh? Well, that be New Delhi, a grand city indeed! Now, where be me spyglass... I got a feelin' there's treasure to be found 'round those parts! Har har!\", additional_kwargs={}, response_metadata={}), HumanMessage(content='what is the currency there?', additional_kwargs={}, response_metadata={}), AIMessage(content=\"Ahoy there, me bucko! Ye be wonderin' 'bout the shiny jingly bits they use for trade in New Delhi, eh? Well, that be the **Indian Rupee**! Aye, a fine coin it is, though not quite as grand as a chest o' gold doubloons, mind ye! Har har!\", additional_kwargs={}, response_metadata={}), HumanMessage(content='what is the average value of USD today there ?', additional_kwargs={}, response_metadata={}), AIMessage(content=\"Arrr, me hearty! Ye be askin' 'bout the value o' them American dollars against the Indian Rupee *today*, eh?\\n\\nNow, listen here, a pirate like meself be more concerned with the glint o' gold and silver, not the daily fluctuations o' them fancy bank numbers! Them rates be shiftin' faster than a stormy sea, and me ol' brain ain't built for trackin' such landlubber details in real-time.\\n\\nBut if ye be truly keen to know, ye'll have to consult one o' them modern-day charts or a money changer's ledger. They'll give ye the precise reckonin' for the day's trade. I reckon it be somewhere 'round 80-83 Indian Rupees for one U.S. Dollar, give or take a few doubloons, but ye best check the latest 'fore ye set sail to trade! Har har!\", additional_kwargs={}, response_metadata={})]\n"
          ]
        },
        {
          "output_type": "error",
          "ename": "KeyboardInterrupt",
          "evalue": "Interrupted by user",
          "traceback": [
            "\u001b[0;31m---------------------------------------------------------------------------\u001b[0m",
            "\u001b[0;31mKeyboardInterrupt\u001b[0m                         Traceback (most recent call last)",
            "\u001b[0;32m/tmp/ipython-input-1979484666.py\u001b[0m in \u001b[0;36m<cell line: 0>\u001b[0;34m()\u001b[0m\n\u001b[1;32m     12\u001b[0m \u001b[0;34m\u001b[0m\u001b[0m\n\u001b[1;32m     13\u001b[0m \u001b[0;32mwhile\u001b[0m \u001b[0;32mTrue\u001b[0m\u001b[0;34m:\u001b[0m\u001b[0;34m\u001b[0m\u001b[0;34m\u001b[0m\u001b[0m\n\u001b[0;32m---> 14\u001b[0;31m   \u001b[0mhuman_input\u001b[0m \u001b[0;34m=\u001b[0m \u001b[0minput\u001b[0m\u001b[0;34m(\u001b[0m\u001b[0;34m\"Enter your message: \"\u001b[0m\u001b[0;34m)\u001b[0m\u001b[0;34m\u001b[0m\u001b[0;34m\u001b[0m\u001b[0m\n\u001b[0m\u001b[1;32m     15\u001b[0m \u001b[0;34m\u001b[0m\u001b[0m\n\u001b[1;32m     16\u001b[0m   prompt = template.invoke(input={ \n",
            "\u001b[0;32m/usr/local/lib/python3.12/dist-packages/ipykernel/kernelbase.py\u001b[0m in \u001b[0;36mraw_input\u001b[0;34m(self, prompt)\u001b[0m\n\u001b[1;32m   1175\u001b[0m                 \u001b[0;34m\"raw_input was called, but this frontend does not support input requests.\"\u001b[0m\u001b[0;34m\u001b[0m\u001b[0;34m\u001b[0m\u001b[0m\n\u001b[1;32m   1176\u001b[0m             )\n\u001b[0;32m-> 1177\u001b[0;31m         return self._input_request(\n\u001b[0m\u001b[1;32m   1178\u001b[0m             \u001b[0mstr\u001b[0m\u001b[0;34m(\u001b[0m\u001b[0mprompt\u001b[0m\u001b[0;34m)\u001b[0m\u001b[0;34m,\u001b[0m\u001b[0;34m\u001b[0m\u001b[0;34m\u001b[0m\u001b[0m\n\u001b[1;32m   1179\u001b[0m             \u001b[0mself\u001b[0m\u001b[0;34m.\u001b[0m\u001b[0m_parent_ident\u001b[0m\u001b[0;34m[\u001b[0m\u001b[0;34m\"shell\"\u001b[0m\u001b[0;34m]\u001b[0m\u001b[0;34m,\u001b[0m\u001b[0;34m\u001b[0m\u001b[0;34m\u001b[0m\u001b[0m\n",
            "\u001b[0;32m/usr/local/lib/python3.12/dist-packages/ipykernel/kernelbase.py\u001b[0m in \u001b[0;36m_input_request\u001b[0;34m(self, prompt, ident, parent, password)\u001b[0m\n\u001b[1;32m   1217\u001b[0m             \u001b[0;32mexcept\u001b[0m \u001b[0mKeyboardInterrupt\u001b[0m\u001b[0;34m:\u001b[0m\u001b[0;34m\u001b[0m\u001b[0;34m\u001b[0m\u001b[0m\n\u001b[1;32m   1218\u001b[0m                 \u001b[0;31m# re-raise KeyboardInterrupt, to truncate traceback\u001b[0m\u001b[0;34m\u001b[0m\u001b[0;34m\u001b[0m\u001b[0m\n\u001b[0;32m-> 1219\u001b[0;31m                 \u001b[0;32mraise\u001b[0m \u001b[0mKeyboardInterrupt\u001b[0m\u001b[0;34m(\u001b[0m\u001b[0;34m\"Interrupted by user\"\u001b[0m\u001b[0;34m)\u001b[0m \u001b[0;32mfrom\u001b[0m \u001b[0;32mNone\u001b[0m\u001b[0;34m\u001b[0m\u001b[0;34m\u001b[0m\u001b[0m\n\u001b[0m\u001b[1;32m   1220\u001b[0m             \u001b[0;32mexcept\u001b[0m \u001b[0mException\u001b[0m\u001b[0;34m:\u001b[0m\u001b[0;34m\u001b[0m\u001b[0;34m\u001b[0m\u001b[0m\n\u001b[1;32m   1221\u001b[0m                 \u001b[0mself\u001b[0m\u001b[0;34m.\u001b[0m\u001b[0mlog\u001b[0m\u001b[0;34m.\u001b[0m\u001b[0mwarning\u001b[0m\u001b[0;34m(\u001b[0m\u001b[0;34m\"Invalid Message:\"\u001b[0m\u001b[0;34m,\u001b[0m \u001b[0mexc_info\u001b[0m\u001b[0;34m=\u001b[0m\u001b[0;32mTrue\u001b[0m\u001b[0;34m)\u001b[0m\u001b[0;34m\u001b[0m\u001b[0;34m\u001b[0m\u001b[0m\n",
            "\u001b[0;31mKeyboardInterrupt\u001b[0m: Interrupted by user"
          ]
        }
      ]
    },
    {
      "cell_type": "markdown",
      "source": [
        "# Structured output"
      ],
      "metadata": {
        "id": "MqgNBZd_Owhd"
      }
    },
    {
      "cell_type": "code",
      "source": [
        "!pip -q install pydantic"
      ],
      "metadata": {
        "id": "g31-iva7Ov8x"
      },
      "execution_count": null,
      "outputs": []
    },
    {
      "cell_type": "code",
      "source": [
        "from pydantic import BaseModel, Field\n",
        "\n",
        "class CurrencyValue(BaseModel):\n",
        "  source_currency: str = Field(description=\"internationally recognised currency short form in 3 characters example INR USD SAR etc from which 1 unit is getting converted to\")\n",
        "  target_currency: str = Field(description=\"internationally recognised currency short form in 3 characters example INR USD SAR etc to which currency value to which getting converted in\")\n",
        "  currency_value: float = Field(description=\"value of the target_currency after converting 1 unit of source_currency into target_currency\")\n",
        "  llm_output: str = Field(description=\"the raw output of the LLM\")\n",
        "\n",
        "new_model = model.with_structured_output(CurrencyValue)\n",
        "output = new_model.invoke(\"what is average USD value in INR on 1st Jan 2022\")"
      ],
      "metadata": {
        "id": "FK71sFIiQDMN"
      },
      "execution_count": 4,
      "outputs": []
    },
    {
      "cell_type": "code",
      "source": [
        "print(output)\n",
        "print(type(output))\n",
        "print(output.currency_value, output.source_currency, output.target_currency, output.llm_output)\n"
      ],
      "metadata": {
        "colab": {
          "base_uri": "https://localhost:8080/"
        },
        "id": "y1-JpCpKSKB0",
        "outputId": "00bcf39d-f91b-4ddc-f4c6-80cd19a3caeb"
      },
      "execution_count": 5,
      "outputs": [
        {
          "output_type": "stream",
          "name": "stdout",
          "text": [
            "source_currency='USD' target_currency='INR' currency_value=74.29 llm_output='On January 1st, 2022, 1 USD was approximately 74.29 INR.'\n",
            "<class '__main__.CurrencyValue'>\n",
            "74.29 USD INR On January 1st, 2022, 1 USD was approximately 74.29 INR.\n"
          ]
        }
      ]
    },
    {
      "cell_type": "code",
      "source": [
        "model.invoke(\"\"\"what is the capital of india. \"\"\")"
      ],
      "metadata": {
        "colab": {
          "base_uri": "https://localhost:8080/"
        },
        "id": "QAD4jlmkUprA",
        "outputId": "487dd4be-3a2b-403d-e888-1641edbe4a87"
      },
      "execution_count": null,
      "outputs": [
        {
          "output_type": "execute_result",
          "data": {
            "text/plain": [
              "AIMessage(content='The capital of India is **New Delhi**.', additional_kwargs={}, response_metadata={'prompt_feedback': {'block_reason': 0, 'safety_ratings': []}, 'finish_reason': 'STOP', 'model_name': 'gemini-2.5-flash', 'safety_ratings': []}, id='run--68af28c2-4379-436b-825d-437a7731836a-0', usage_metadata={'input_tokens': 9, 'output_tokens': 26, 'total_tokens': 35, 'input_token_details': {'cache_read': 0}, 'output_token_details': {'reasoning': 17}})"
            ]
          },
          "metadata": {},
          "execution_count": 49
        }
      ]
    },
    {
      "cell_type": "code",
      "source": [
        "from langchain_core.output_parsers import StrOutputParser\n",
        "from langchain_core.runnables import RunnableSequence, RunnableParallel, R\n",
        "from langchain_core.prompts import PromptTemplate\n",
        "\n",
        "template1 = PromptTemplate(template=\"\"\"\n",
        "what is the longitute & lattitude of place mentioned in following sentence: {input}\n",
        "\"\"\",\n",
        "input_variables=[\"input\"],\n",
        "validate_template=True\n",
        ")\n",
        "\n",
        "\n",
        "parser = StrOutputParser()\n",
        "\n",
        "chain = template1 | model | parser\n",
        "#chain = RunnableSequence(template1 , model , parser) #above and this line both are same\n",
        "\n",
        "chain.invoke({\"input\": \"what is the capital of india.\"})"
      ],
      "metadata": {
        "colab": {
          "base_uri": "https://localhost:8080/",
          "height": 69
        },
        "id": "wgtjVovwVuCw",
        "outputId": "ea23aa7a-4587-454e-a46e-f1b8e05bb249"
      },
      "execution_count": 10,
      "outputs": [
        {
          "output_type": "execute_result",
          "data": {
            "text/plain": [
              "'The place mentioned in the sentence \"what is the capital of india\" is **New Delhi**.\\n\\nThe approximate longitude and latitude for New Delhi are:\\n\\n*   **Latitude:** 28.6139° N\\n*   **Longitude:** 77.2090° E'"
            ],
            "application/vnd.google.colaboratory.intrinsic+json": {
              "type": "string"
            }
          },
          "metadata": {},
          "execution_count": 10
        }
      ]
    },
    {
      "cell_type": "markdown",
      "source": [
        "# RunnableParallel"
      ],
      "metadata": {
        "id": "xnz3MCn5LmYI"
      }
    },
    {
      "cell_type": "code",
      "source": [
        "template2 = PromptTemplate(template=\"\"\"{input}\"\"\",\n",
        "input_variables=[\"input\"],\n",
        "validate_template=True\n",
        ")\n",
        "\n",
        "parallel_chain = RunnableParallel(\n",
        "    {\n",
        "        \"output1\": chain,\n",
        "        \"output2\": template2 | model | parser\n",
        "    }\n",
        ")\n",
        "\n",
        "result = parallel_chain.invoke({\"input\": \"what is the capital of india.\"})"
      ],
      "metadata": {
        "id": "xckqCOJarW7j"
      },
      "execution_count": 11,
      "outputs": []
    },
    {
      "cell_type": "code",
      "source": [
        "print(result)"
      ],
      "metadata": {
        "colab": {
          "base_uri": "https://localhost:8080/"
        },
        "id": "aI7tV1GUMgUf",
        "outputId": "98632348-6fe2-45a5-9203-123115859980"
      },
      "execution_count": 12,
      "outputs": [
        {
          "output_type": "stream",
          "name": "stdout",
          "text": [
            "{'output1': 'The sentence \"what is the capital of india\" refers to **New Delhi**, which is the capital of India.\\n\\nThe approximate longitude and latitude for New Delhi are:\\n\\n*   **Latitude:** 28.6139° N\\n*   **Longitude:** 77.2090° E', 'output2': 'The capital of India is **New Delhi**.'}\n"
          ]
        }
      ]
    },
    {
      "cell_type": "code",
      "source": [
        "!pip install -q langchain-community pypdf"
      ],
      "metadata": {
        "colab": {
          "base_uri": "https://localhost:8080/"
        },
        "id": "hjbJT8IDw93m",
        "outputId": "61e38cda-ec39-44f2-a624-46325e7b2a74"
      },
      "execution_count": 15,
      "outputs": [
        {
          "output_type": "stream",
          "name": "stdout",
          "text": [
            "\u001b[?25l   \u001b[90m━━━━━━━━━━━━━━━━━━━━━━━━━━━━━━━━━━━━━━━━\u001b[0m \u001b[32m0.0/323.9 kB\u001b[0m \u001b[31m?\u001b[0m eta \u001b[36m-:--:--\u001b[0m\r\u001b[2K   \u001b[91m━━━━━━━━━━━━━━━━━━━━━━━━━━━━━━━━━━━━━━━\u001b[0m\u001b[90m╺\u001b[0m \u001b[32m317.4/323.9 kB\u001b[0m \u001b[31m10.4 MB/s\u001b[0m eta \u001b[36m0:00:01\u001b[0m\r\u001b[2K   \u001b[90m━━━━━━━━━━━━━━━━━━━━━━━━━━━━━━━━━━━━━━━━\u001b[0m \u001b[32m323.9/323.9 kB\u001b[0m \u001b[31m7.5 MB/s\u001b[0m eta \u001b[36m0:00:00\u001b[0m\n",
            "\u001b[?25h"
          ]
        }
      ]
    },
    {
      "cell_type": "code",
      "source": [
        "from langchain_community.document_loaders import PyPDFLoader\n",
        "loader = PyPDFLoader(\"shahjahan.pdf\")\n",
        "pages = loader.load()\n",
        "#pages  #contains List[ Document(metadata={}, page_content=\"\") ]"
      ],
      "metadata": {
        "id": "JPEToa3txUsB"
      },
      "execution_count": 18,
      "outputs": []
    },
    {
      "cell_type": "code",
      "source": [
        "from pprint import pprint\n",
        "pprint(pages)"
      ],
      "metadata": {
        "colab": {
          "base_uri": "https://localhost:8080/"
        },
        "id": "4uE7H2L7yYvB",
        "outputId": "242b7368-c7ef-4d20-c0fc-5c974c5aa832"
      },
      "execution_count": 17,
      "outputs": [
        {
          "output_type": "stream",
          "name": "stdout",
          "text": [
            "[Document(metadata={'producer': 'PDFium', 'creator': 'PDFium', 'creationdate': 'D:20251025011727', 'source': 'shahjahan.pdf', 'total_pages': 6, 'page': 0, 'page_label': '1'}, page_content='AIJRA Vol. I Issue III  www.ijcms2015.co  ISSN 2455-5967 \\n \\n The Mughal Empire Under Shah Jahan in Indian History: A Study  \\nHarish Chandra \\n \\n40.1 \\nThe Mughal Empire Under Shah Jahan in Indian History: A Study  \\n  \\n \\n \\n \\n*Harish Chandra \\n  \\nAbstract \\nEmperor Shah Jahan (1592 -1666) was one of the greatest Mughal Emperors of India. He ruled an \\nEmpire that was one of the largest in the history of the world. It covered today’s Afghanistan, \\nPakistan, Iran, India, Nepal, Bhutan and Bangladesh. The size of the huge Empire was easily \\ncomparable to the gig antic Roman Empire and British Empire. The rule of Emperor Shah Jahan was \\none of the most peaceful, prosperous and progressive times of Indian history. There were \\nunimaginable developments in the field of art and architecture. The peacock throne, the Taj M ahal, \\nthe Agra Fort and many other pieces of art and architecture that keep people mesmerized even today \\nwere built up during the reign of Emperor Shah Jahan. Financial collections rose to the highest \\nvolume during this period. There were no major rebellio ns or political invasions during the reign of \\nEmperor Shah Jahan. \\nKeywords: Greatest, Prosperous, Progressive, Architecture, Indian History, Peacock Throne \\nIntroduction \\nShah Jahan was tolerant but not very liberal. He ordered the demolition of many Hindu temples and \\nChristian churches in Lahore, Delhi and Calcutta (today known as Kolkata). He had almost soured the \\nrelations with the Jain community in Gujarat who incidenta lly were the royal financiers of that era. It \\nis true that financial collections rose to a huge amount, in fact, to the highest level in the Mughal era. \\nBut that was not necessarily due to the growth in trade, commerce and business. It was because tax \\nrates were very high and the tax collectors were merciless while collecting tax from the common \\npeople. This gave rise to dissatisfaction and frustration in the minds of the common people against \\nthe Empire and the Emperor.Building of some of the most amazing pieces of art and architecture, \\nparticularly the Taj Mahal in Agra, made Shah Jahan immortal in not only Indian history, but in the \\nhistory of the world. But it also exhausted huge amounts of funds from the royal treasury. As a result \\nof this, there was a very serious fiscal recession immediately after the reign of Emperor Shah Jahan. \\nHe was so much absorbed in his lavish extravagant lifestyle that he had stopped looking into the \\naffairs of the Empire. He lost interest in the day to day matters of his Empir e. Slowly and gradually \\nthat had a devastating impact. Some of the important machineries for running the Empire, like the \\narmy and the royal executive became inefficient and ineffective. They were greedy and always \\nthinking of squeezing the Empire for thei r personal benefits. The army became so weak that at one'),\n",
            " Document(metadata={'producer': 'PDFium', 'creator': 'PDFium', 'creationdate': 'D:20251025011727', 'source': 'shahjahan.pdf', 'total_pages': 6, 'page': 1, 'page_label': '2'}, page_content='AIJRA Vol. I Issue III  www.ijcms2015.co  ISSN 2455-5967 \\n \\n The Mughal Empire Under Shah Jahan in Indian History: A Study  \\nHarish Chandra \\n \\n40.2 \\npoint of time which used to be one of the strongest armies in history, could not suppress the \\nrebellions in Kabul, Kanadahar, Badakshan and many other places.Thus, Shah Jahan’s reign became a \\ncombination of black and white shades, thereby giving thrust to a debate i.e. if the reign of Emperor \\nShah Jahan can be called a golden era of Indian history or not. On collection of data, analysis and \\ninterpretations of the data, the conclusions that were reache d were that there was tremendous \\ndevelopment in the field of art and architecture during the reign of Emperor Shah Jahan, but all round \\ndevelopment was not achieved. Shah Jahan as an Emperor was busy with his extravagant lifestyle. He \\nwas ignorant about th e Empire and his subjects. So referring to Shah Jahan’s reign as the golden era \\nof Indian history raises question marks and looks like a distant dream. \\n \\nDate of Birth: January 5, 1592 \\nPlace of Birth: Lahore, Pakistan \\nBirth Name: Shahab-ud-din Muhammad Khurram \\nDate of Death: January 22, 1666 \\nPlace of Death: Agra, India \\nReign: January 19, 1628 to July 31, 1658 \\nSpouses: Kandahari Mahal, Akbarabadi Mahal, Mumtaz Mahal, Fatehpuri Mahal, Muti Begum \\nChildren: Aurangzeb, Dara Shukoh, Jahanara Begum, Shah Shuja,  Murad Bakhsh, Roshanara \\nBegum, Gauhara Begum, Parhez Banu Begum, Husnara Begum, Sultan Luftallah, Sultan Daulat \\nAfza, Huralnissa Begum, Shahzadi Surayya Banu Begum, Sultan Ummid Baksh \\nFather:Jahangir \\nMother: Jagat Gosaini'),\n",
            " Document(metadata={'producer': 'PDFium', 'creator': 'PDFium', 'creationdate': 'D:20251025011727', 'source': 'shahjahan.pdf', 'total_pages': 6, 'page': 2, 'page_label': '3'}, page_content='AIJRA Vol. I Issue III  www.ijcms2015.co  ISSN 2455-5967 \\n \\n The Mughal Empire Under Shah Jahan in Indian History: A Study  \\nHarish Chandra \\n \\n40.3 \\nThe Military Genius: \\nEmperor Shah Jahan showed extraordinary military talent and intelligence. There was a kingdom in \\nRajasthan called Mewar. Mewar was hostile towards the Mughal dominance since the time of Akbar, \\nthe great. At the age of twenty two, Shah Jahan led an army of almost 200,0 00 and after a horrible \\nwar that extended for a year, he conquered Mewar. The then ruler of Mewar, Maharana Amar Singh II \\nsurrendered to him and thus, Mewar became a friendly kingdom for the first time in history of the \\nMughal Empire. In 1617, Shah Jahan f ought against the Lodis in the Deccan region and established \\nthe control of the Mughal Empire in that region. It made the then ruler at Delhi, his father Emperor \\nJahangir, so happy that he offered the prince a special seat in his court. This solidified Sha h Jahan’s \\nreach towards the throne. In this context, famous historian Edward S. Holden (5 November, 1846 – \\n16 March, 1914) wrote “He was flattered by some, envied by others, loved by none.”  \\nPatron of Art and Architecture: \\nShah Jahan is particularly remembe red in world history for being a patron of art and architecture. He \\nbuilt up his urban capital at Agra which according to many historians became envy for Instanbul (at \\npresent in Turkey) and Isfahan (at present in Iran), which were the two most important c ities in the \\nworld at that period. He commissioned the famous Peacock Throne or Mayur Singhasana. The \\nmagnificence of his court was appreciated by many European travellers like Bernier (1625 – 1688) \\nand Sir Thomas Roe (1581 – 1644). Many prefer to call his  reign the golden era of architecture. \\nAmong Shah Jahan’s constructions the most notable ones are – \\n\\uf0b7 Taj Mahal and Moti Masjid in Agra, Uttar Pradesh, India. \\n\\uf0b7 Red Fort and Jama Masjid in Delhi, India. \\n\\uf0b7 Shalimar Garden, Sheesh Mahal, Naulakha pavilion, Tomb of  Jahangir, Wazir Khan mosque and \\nparts of Lahore Fort in Lahore, at present in Western Punjab, Pakistan.  \\n\\uf0b7 Mahabat Khan Mosque in Peshawar, at present in North West Frontier province, Paksitan.  \\n\\uf0b7 Shah Jahan Mosque in Sindh, at present in Pakistan.    \\nFinance and Administration \\nHistorical evidences tell us that royalty collection rose to the highest level in the history of the \\nMughal Empire in India during the reign of Shah Jahan. There were no major rebellions or disruptive \\nforces that took birth in this period. The reign of Sha h Jahan was one of the most peaceful periods in \\nIndian history.  \\nContribution to Mughal Architecture \\nShah Jahan was an avid builder and is responsible for building some of the most beautiful edifices \\nin present day India and Pakistan. It is said that many European travelers would visit his empire'),\n",
            " Document(metadata={'producer': 'PDFium', 'creator': 'PDFium', 'creationdate': 'D:20251025011727', 'source': 'shahjahan.pdf', 'total_pages': 6, 'page': 3, 'page_label': '4'}, page_content=\"AIJRA Vol. I Issue III  www.ijcms2015.co  ISSN 2455-5967 \\n \\n The Mughal Empire Under Shah Jahan in Indian History: A Study  \\nHarish Chandra \\n \\n40.4 \\njust to learn the different techniques used in the construction of buildings. It is also said that some \\nof the world’s most talented engineers and architects resided in his empire .  \\nConstruction of The Taj Mahal \\nOne of the most significant incidents in the life of Mughal Emperor Shah Jahan was the construction \\nof Taj Mahal. His beloved wife Mumtaz Mahal died while giving birth to their fourteenth child and \\nthe reason behind her death was stated to be postpartum ha emorrhage. This left Shah Jahan \\ndevastated who then decided to build the world's most beautiful monument in the memory of his \\nwife. After many years of planning, hard work and immense sacrifices, the monument, which came \\nto be known as the Taj Mahal was bu ilt.Today people from different parts of the world travel to \\nIndia just to see this amazing white colored edifice which is also one of the most visited tourist \\ndestinations of India. Taj Mahal continues to beone of the Seven Wonders of the World!  \\nObjectives of the Study: \\nThis study is trying to explore a period that existed about five hundred years ago. The objectives of \\nsuch studies that are done in relation to a period that existed long ago are to identify the mistakes of \\nthat era and understand the conse quences of those mistakes. This would help in not repeating those \\nmistakes today, prompt and easy identification of those mistakes (if they are by chance being \\nrepeated) and also in the rectification of those mistakes.This particular research is exploring the \\nreign of Emperor Shah Jahan and trying to reach the conclusion about if that period can be called the \\ngolden era of Indian history or not. From that view point it can be said that the objective of this study \\nis to evaluate Emperor Shah Jahan and his reign, to measure the effectiveness of his policies regarding \\nrunning of an Empire that had a Muslim ruler and more than eighty percent of Hindu subjects.  \\nResearch Objectives: \\nEvery research needs to have some research objectives which are to be fulfilled by  the end of the \\nresearch. A research without any objective is like an undetermined path and is likely to not reach \\nanywhere. This research is also not an exception to this norm. For making it effective it was necessary \\nto fix some research objectives. Afte r studying the research problem, the literatures available on the \\ntopic and related topics and the general objectives of this study, the following research objectives \\nwere framed for pursuing it and making it effective: \\n\\uf0b7 Exploration of the developments duri ng the reign of Emperor Shah Jahan in various sectors like \\ndefense and military affairs, education, art and architecture, trade and commerce, economic \\ndevelopment and religion.  \\n\\uf0b7 Measuring the effectiveness of the policies of Emperor Shah Jahan in fields li ke religion, military \\nmatters, art and architecture, education, communal harmony, royalty collection etc.  \\n\\uf0b7 Exploration of the frustration within the empire due to growth of religious intolerance, lack of \\nappropriate use of military power, extravagant life s tyle of  Emperor Shah Jahan and the empire, \\ndeficiencies in the administration and foreign policies.\"),\n",
            " Document(metadata={'producer': 'PDFium', 'creator': 'PDFium', 'creationdate': 'D:20251025011727', 'source': 'shahjahan.pdf', 'total_pages': 6, 'page': 4, 'page_label': '5'}, page_content='AIJRA Vol. I Issue III  www.ijcms2015.co  ISSN 2455-5967 \\n \\n The Mughal Empire Under Shah Jahan in Indian History: A Study  \\nHarish Chandra \\n \\n40.5 \\n\\uf0b7 Exploring if Emperor Shah Jahan was responsible for the prosperity, progress and peace during \\nhis reign.  \\n\\uf0b7 Evaluation of Shah Jahan as an emperor. \\n\\uf0b7 A comparison of Emperor Shah Jahan with the other great Mughal Emperors.  \\n\\uf0b7 Measuring the contributions of Emperor Shah Jahan towards the downfall of the Mughal Empire.  \\nScope of Study: \\n\\uf0b7 Reign of Emperor Shah Jahan. \\n\\uf0b7 His successes in fields like military, religious, business, art, architectural and administrative \\nactivities. \\n\\uf0b7 Failures of Emperor Shah Jahan.  \\n\\uf0b7 Exploration of the heavier side i.e. whether successes are heavier or failures.  \\nSignificance of the Study: \\n\\uf0b7 If the reign of Emperor Shah Jahan was a golden era of I ndian history, then why did the Mughal \\nEmpire face severe economic recession immediately after him when Emperor Aurangzeb \\nstarted to rule? \\n\\uf0b7 If the reign of Emperor Shah Jahan was not a golden era of Indian history then can he be held \\nresponsible for the downfall of the Mughal Empire and to what extent? \\nImportance of Research Methodology: \\nThe importance of research methodology can be summed up as follows:  \\n\\uf0b7 It enables the researcher to select the right research approach. \\n\\uf0b7 It helps in meeting the research objecti ves and finding out of the answers of the research \\nquestions. \\n\\uf0b7 It aims to construct synchronization between the research and the purposes for which the \\nresearch is being pursued. \\n\\uf0b7 It helps the researcher to choose a path and proceed with the research.  \\n\\uf0b7 It acts as the foundation of the research. \\nHypothesis: \\nA hypothesis is a specific statement of prediction. Not all studies have hypothesis or should have \\nhypothesis. This study is basic or pure or fundamental by nature. Generally in such studies \\nresearchers are making an attempt to explore a research topic for  the first time. The purpose of these \\ntypes of studies is to develop a hypothesis that can be tested in future through even more thorough'),\n",
            " Document(metadata={'producer': 'PDFium', 'creator': 'PDFium', 'creationdate': 'D:20251025011727', 'source': 'shahjahan.pdf', 'total_pages': 6, 'page': 5, 'page_label': '6'}, page_content=\"AIJRA Vol. I Issue III  www.ijcms2015.co  ISSN 2455-5967 \\n \\n The Mughal Empire Under Shah Jahan in Indian History: A Study  \\nHarish Chandra \\n \\n40.6 \\nresearch. So in this study it is difficult to frame a hypothesis. Hence, effort is being made to frame \\nsome predictions that this study may offer at the end. In this study secondary data has been collected \\nfrom various websites, research articles published in journals and books. This data is expected to \\nhelp the scholar reach conclusions about Shah Jahan’s successes and f ailures in military activities, \\nadministration, economic development, trade and commerce, religious activities, contributions in art \\nand architecture. This comparison of successes and failures is expected to help reach the conclusion \\nabout which side was heavier. \\nLiterature Review: \\n1. Shujauddin, Mohammad; Shujauddin, Razia (1967).  The Life and Times of Noor Jahan. Lahore: \\nCaravan Book House. p. 121. \\n2. Richards, J.F. (1995).  Mughal empire  (Transferred to digital print edition). Cambridge, Eng.: \\nCambridge University Press. p. 127. ISBN 9780521566032. \\n3. Richards, J.F. (1995).  Mughal empire  (Transferred to digital print edition). Cambridge, Eng.: \\nCambridge University Press. p. 158. ISBN 9780521566032. \\n4. Jahangir, Tuzk-e-Jahangiri; The Emperor's memoirs \\n5. Nicoll, Fergus (2009). Shah Jahan. London: Haus. p. 56. ISBN 978-1-906598-18-1. \\n6. Sen, Sailendra (2013).  A Textbook of Medieval Indian History. Primus Books. pp.  169–\\n170. ISBN 978-93-80607-34-4. \\n7. Richards, John F. (1995). The Mughal Empire. Cambridge University Press.  \\n8. Desai, compiled and translated by W.E. Begley and Z.A.  (1989). Taj Mahal: the illumined tomb: \\nan anthology of seventeenth -century Mughal and European documentary sources. Cambridge, \\nMass.: Aga Khan Program for Islamic Architecture. p. 23. ISBN 9780295969442. \\nConclusions: \\nThis research dealt with a period that existed in hist ory about a few centuries ago. It was about \\nexploring if the reign of Emperor Shah Jahan can be called the golden era or not. For this purpose \\nsome research objectives were framed. Then research questions were deducted from these research \\nobjectives. Adequate data was collected and the research questions were answered in a tabular form \\nin the chapter on analysis and interpretations to show the linkage between the data collected, \\nanalysis done on the basis of that data and interpretations of the analysis tha t framed the answers of \\nthe research questions.It is interesting to note in this context that the research questions united to \\nform a major research question which is the title of the paper i.e. can the reign of Emperor Shah Jahan \\nbe called the golden era of Indian history or not. In other words, it can be said that effort was made in \\nthis research to frame the answers of the research questions so that a conclusion can be reached \\nabout it. Research questions going ahead to frame a major research question wh ich is the title of the \\npaper is a unique case. It ensured that at the end it became necessary to answer the question which is\")]\n"
          ]
        }
      ]
    },
    {
      "cell_type": "code",
      "source": [
        "from langchain.text_splitter import RecursiveCharacterTextSplitter\n",
        "splitter = RecursiveCharacterTextSplitter(\n",
        "    chunk_size=1000,\n",
        "    chunk_overlap=200\n",
        ")\n",
        "\n",
        "chunks = splitter.split_documents(pages)\n",
        "\n",
        "# chunks = []\n",
        "# for page in pages:\n",
        "#   chunks.append(splitter.split_text(page))\n",
        "\n",
        "pprint(chunks)"
      ],
      "metadata": {
        "colab": {
          "base_uri": "https://localhost:8080/"
        },
        "id": "uQf8IRuCz-L6",
        "outputId": "7337e922-280a-4c52-d12d-a76c3bf7fab3"
      },
      "execution_count": 42,
      "outputs": [
        {
          "output_type": "stream",
          "name": "stdout",
          "text": [
            "[Document(metadata={'producer': 'PDFium', 'creator': 'PDFium', 'creationdate': 'D:20251025011727', 'source': 'shahjahan.pdf', 'total_pages': 6, 'page': 0, 'page_label': '1'}, page_content='AIJRA Vol. I Issue III  www.ijcms2015.co  ISSN 2455-5967 \\n \\n The Mughal Empire Under Shah Jahan in Indian History: A Study  \\nHarish Chandra \\n \\n40.1 \\nThe Mughal Empire Under Shah Jahan in Indian History: A Study  \\n  \\n \\n \\n \\n*Harish Chandra \\n  \\nAbstract \\nEmperor Shah Jahan (1592 -1666) was one of the greatest Mughal Emperors of India. He ruled an \\nEmpire that was one of the largest in the history of the world. It covered today’s Afghanistan, \\nPakistan, Iran, India, Nepal, Bhutan and Bangladesh. The size of the huge Empire was easily \\ncomparable to the gig antic Roman Empire and British Empire. The rule of Emperor Shah Jahan was \\none of the most peaceful, prosperous and progressive times of Indian history. There were \\nunimaginable developments in the field of art and architecture. The peacock throne, the Taj M ahal, \\nthe Agra Fort and many other pieces of art and architecture that keep people mesmerized even today'),\n",
            " Document(metadata={'producer': 'PDFium', 'creator': 'PDFium', 'creationdate': 'D:20251025011727', 'source': 'shahjahan.pdf', 'total_pages': 6, 'page': 0, 'page_label': '1'}, page_content='the Agra Fort and many other pieces of art and architecture that keep people mesmerized even today \\nwere built up during the reign of Emperor Shah Jahan. Financial collections rose to the highest \\nvolume during this period. There were no major rebellio ns or political invasions during the reign of \\nEmperor Shah Jahan. \\nKeywords: Greatest, Prosperous, Progressive, Architecture, Indian History, Peacock Throne \\nIntroduction \\nShah Jahan was tolerant but not very liberal. He ordered the demolition of many Hindu temples and \\nChristian churches in Lahore, Delhi and Calcutta (today known as Kolkata). He had almost soured the \\nrelations with the Jain community in Gujarat who incidenta lly were the royal financiers of that era. It \\nis true that financial collections rose to a huge amount, in fact, to the highest level in the Mughal era. \\nBut that was not necessarily due to the growth in trade, commerce and business. It was because tax'),\n",
            " Document(metadata={'producer': 'PDFium', 'creator': 'PDFium', 'creationdate': 'D:20251025011727', 'source': 'shahjahan.pdf', 'total_pages': 6, 'page': 0, 'page_label': '1'}, page_content='But that was not necessarily due to the growth in trade, commerce and business. It was because tax \\nrates were very high and the tax collectors were merciless while collecting tax from the common \\npeople. This gave rise to dissatisfaction and frustration in the minds of the common people against \\nthe Empire and the Emperor.Building of some of the most amazing pieces of art and architecture, \\nparticularly the Taj Mahal in Agra, made Shah Jahan immortal in not only Indian history, but in the \\nhistory of the world. But it also exhausted huge amounts of funds from the royal treasury. As a result \\nof this, there was a very serious fiscal recession immediately after the reign of Emperor Shah Jahan. \\nHe was so much absorbed in his lavish extravagant lifestyle that he had stopped looking into the \\naffairs of the Empire. He lost interest in the day to day matters of his Empir e. Slowly and gradually'),\n",
            " Document(metadata={'producer': 'PDFium', 'creator': 'PDFium', 'creationdate': 'D:20251025011727', 'source': 'shahjahan.pdf', 'total_pages': 6, 'page': 0, 'page_label': '1'}, page_content='affairs of the Empire. He lost interest in the day to day matters of his Empir e. Slowly and gradually \\nthat had a devastating impact. Some of the important machineries for running the Empire, like the \\narmy and the royal executive became inefficient and ineffective. They were greedy and always \\nthinking of squeezing the Empire for thei r personal benefits. The army became so weak that at one'),\n",
            " Document(metadata={'producer': 'PDFium', 'creator': 'PDFium', 'creationdate': 'D:20251025011727', 'source': 'shahjahan.pdf', 'total_pages': 6, 'page': 1, 'page_label': '2'}, page_content='AIJRA Vol. I Issue III  www.ijcms2015.co  ISSN 2455-5967 \\n \\n The Mughal Empire Under Shah Jahan in Indian History: A Study  \\nHarish Chandra \\n \\n40.2 \\npoint of time which used to be one of the strongest armies in history, could not suppress the \\nrebellions in Kabul, Kanadahar, Badakshan and many other places.Thus, Shah Jahan’s reign became a \\ncombination of black and white shades, thereby giving thrust to a debate i.e. if the reign of Emperor \\nShah Jahan can be called a golden era of Indian history or not. On collection of data, analysis and \\ninterpretations of the data, the conclusions that were reache d were that there was tremendous \\ndevelopment in the field of art and architecture during the reign of Emperor Shah Jahan, but all round \\ndevelopment was not achieved. Shah Jahan as an Emperor was busy with his extravagant lifestyle. He \\nwas ignorant about th e Empire and his subjects. So referring to Shah Jahan’s reign as the golden era'),\n",
            " Document(metadata={'producer': 'PDFium', 'creator': 'PDFium', 'creationdate': 'D:20251025011727', 'source': 'shahjahan.pdf', 'total_pages': 6, 'page': 1, 'page_label': '2'}, page_content='was ignorant about th e Empire and his subjects. So referring to Shah Jahan’s reign as the golden era \\nof Indian history raises question marks and looks like a distant dream. \\n \\nDate of Birth: January 5, 1592 \\nPlace of Birth: Lahore, Pakistan \\nBirth Name: Shahab-ud-din Muhammad Khurram \\nDate of Death: January 22, 1666 \\nPlace of Death: Agra, India \\nReign: January 19, 1628 to July 31, 1658 \\nSpouses: Kandahari Mahal, Akbarabadi Mahal, Mumtaz Mahal, Fatehpuri Mahal, Muti Begum \\nChildren: Aurangzeb, Dara Shukoh, Jahanara Begum, Shah Shuja,  Murad Bakhsh, Roshanara \\nBegum, Gauhara Begum, Parhez Banu Begum, Husnara Begum, Sultan Luftallah, Sultan Daulat \\nAfza, Huralnissa Begum, Shahzadi Surayya Banu Begum, Sultan Ummid Baksh \\nFather:Jahangir \\nMother: Jagat Gosaini'),\n",
            " Document(metadata={'producer': 'PDFium', 'creator': 'PDFium', 'creationdate': 'D:20251025011727', 'source': 'shahjahan.pdf', 'total_pages': 6, 'page': 2, 'page_label': '3'}, page_content='AIJRA Vol. I Issue III  www.ijcms2015.co  ISSN 2455-5967 \\n \\n The Mughal Empire Under Shah Jahan in Indian History: A Study  \\nHarish Chandra \\n \\n40.3 \\nThe Military Genius: \\nEmperor Shah Jahan showed extraordinary military talent and intelligence. There was a kingdom in \\nRajasthan called Mewar. Mewar was hostile towards the Mughal dominance since the time of Akbar, \\nthe great. At the age of twenty two, Shah Jahan led an army of almost 200,0 00 and after a horrible \\nwar that extended for a year, he conquered Mewar. The then ruler of Mewar, Maharana Amar Singh II \\nsurrendered to him and thus, Mewar became a friendly kingdom for the first time in history of the \\nMughal Empire. In 1617, Shah Jahan f ought against the Lodis in the Deccan region and established \\nthe control of the Mughal Empire in that region. It made the then ruler at Delhi, his father Emperor \\nJahangir, so happy that he offered the prince a special seat in his court. This solidified Sha h Jahan’s'),\n",
            " Document(metadata={'producer': 'PDFium', 'creator': 'PDFium', 'creationdate': 'D:20251025011727', 'source': 'shahjahan.pdf', 'total_pages': 6, 'page': 2, 'page_label': '3'}, page_content='Jahangir, so happy that he offered the prince a special seat in his court. This solidified Sha h Jahan’s \\nreach towards the throne. In this context, famous historian Edward S. Holden (5 November, 1846 – \\n16 March, 1914) wrote “He was flattered by some, envied by others, loved by none.”  \\nPatron of Art and Architecture: \\nShah Jahan is particularly remembe red in world history for being a patron of art and architecture. He \\nbuilt up his urban capital at Agra which according to many historians became envy for Instanbul (at \\npresent in Turkey) and Isfahan (at present in Iran), which were the two most important c ities in the \\nworld at that period. He commissioned the famous Peacock Throne or Mayur Singhasana. The \\nmagnificence of his court was appreciated by many European travellers like Bernier (1625 – 1688) \\nand Sir Thomas Roe (1581 – 1644). Many prefer to call his  reign the golden era of architecture. \\nAmong Shah Jahan’s constructions the most notable ones are –'),\n",
            " Document(metadata={'producer': 'PDFium', 'creator': 'PDFium', 'creationdate': 'D:20251025011727', 'source': 'shahjahan.pdf', 'total_pages': 6, 'page': 2, 'page_label': '3'}, page_content='and Sir Thomas Roe (1581 – 1644). Many prefer to call his  reign the golden era of architecture. \\nAmong Shah Jahan’s constructions the most notable ones are – \\n\\uf0b7 Taj Mahal and Moti Masjid in Agra, Uttar Pradesh, India. \\n\\uf0b7 Red Fort and Jama Masjid in Delhi, India. \\n\\uf0b7 Shalimar Garden, Sheesh Mahal, Naulakha pavilion, Tomb of  Jahangir, Wazir Khan mosque and \\nparts of Lahore Fort in Lahore, at present in Western Punjab, Pakistan.  \\n\\uf0b7 Mahabat Khan Mosque in Peshawar, at present in North West Frontier province, Paksitan.  \\n\\uf0b7 Shah Jahan Mosque in Sindh, at present in Pakistan.    \\nFinance and Administration \\nHistorical evidences tell us that royalty collection rose to the highest level in the history of the \\nMughal Empire in India during the reign of Shah Jahan. There were no major rebellions or disruptive \\nforces that took birth in this period. The reign of Sha h Jahan was one of the most peaceful periods in \\nIndian history.  \\nContribution to Mughal Architecture'),\n",
            " Document(metadata={'producer': 'PDFium', 'creator': 'PDFium', 'creationdate': 'D:20251025011727', 'source': 'shahjahan.pdf', 'total_pages': 6, 'page': 2, 'page_label': '3'}, page_content='forces that took birth in this period. The reign of Sha h Jahan was one of the most peaceful periods in \\nIndian history.  \\nContribution to Mughal Architecture \\nShah Jahan was an avid builder and is responsible for building some of the most beautiful edifices \\nin present day India and Pakistan. It is said that many European travelers would visit his empire'),\n",
            " Document(metadata={'producer': 'PDFium', 'creator': 'PDFium', 'creationdate': 'D:20251025011727', 'source': 'shahjahan.pdf', 'total_pages': 6, 'page': 3, 'page_label': '4'}, page_content=\"AIJRA Vol. I Issue III  www.ijcms2015.co  ISSN 2455-5967 \\n \\n The Mughal Empire Under Shah Jahan in Indian History: A Study  \\nHarish Chandra \\n \\n40.4 \\njust to learn the different techniques used in the construction of buildings. It is also said that some \\nof the world’s most talented engineers and architects resided in his empire .  \\nConstruction of The Taj Mahal \\nOne of the most significant incidents in the life of Mughal Emperor Shah Jahan was the construction \\nof Taj Mahal. His beloved wife Mumtaz Mahal died while giving birth to their fourteenth child and \\nthe reason behind her death was stated to be postpartum ha emorrhage. This left Shah Jahan \\ndevastated who then decided to build the world's most beautiful monument in the memory of his \\nwife. After many years of planning, hard work and immense sacrifices, the monument, which came \\nto be known as the Taj Mahal was bu ilt.Today people from different parts of the world travel to\"),\n",
            " Document(metadata={'producer': 'PDFium', 'creator': 'PDFium', 'creationdate': 'D:20251025011727', 'source': 'shahjahan.pdf', 'total_pages': 6, 'page': 3, 'page_label': '4'}, page_content='wife. After many years of planning, hard work and immense sacrifices, the monument, which came \\nto be known as the Taj Mahal was bu ilt.Today people from different parts of the world travel to \\nIndia just to see this amazing white colored edifice which is also one of the most visited tourist \\ndestinations of India. Taj Mahal continues to beone of the Seven Wonders of the World!  \\nObjectives of the Study: \\nThis study is trying to explore a period that existed about five hundred years ago. The objectives of \\nsuch studies that are done in relation to a period that existed long ago are to identify the mistakes of \\nthat era and understand the conse quences of those mistakes. This would help in not repeating those \\nmistakes today, prompt and easy identification of those mistakes (if they are by chance being \\nrepeated) and also in the rectification of those mistakes.This particular research is exploring the'),\n",
            " Document(metadata={'producer': 'PDFium', 'creator': 'PDFium', 'creationdate': 'D:20251025011727', 'source': 'shahjahan.pdf', 'total_pages': 6, 'page': 3, 'page_label': '4'}, page_content='mistakes today, prompt and easy identification of those mistakes (if they are by chance being \\nrepeated) and also in the rectification of those mistakes.This particular research is exploring the \\nreign of Emperor Shah Jahan and trying to reach the conclusion about if that period can be called the \\ngolden era of Indian history or not. From that view point it can be said that the objective of this study \\nis to evaluate Emperor Shah Jahan and his reign, to measure the effectiveness of his policies regarding \\nrunning of an Empire that had a Muslim ruler and more than eighty percent of Hindu subjects.  \\nResearch Objectives: \\nEvery research needs to have some research objectives which are to be fulfilled by  the end of the \\nresearch. A research without any objective is like an undetermined path and is likely to not reach \\nanywhere. This research is also not an exception to this norm. For making it effective it was necessary'),\n",
            " Document(metadata={'producer': 'PDFium', 'creator': 'PDFium', 'creationdate': 'D:20251025011727', 'source': 'shahjahan.pdf', 'total_pages': 6, 'page': 3, 'page_label': '4'}, page_content='anywhere. This research is also not an exception to this norm. For making it effective it was necessary \\nto fix some research objectives. Afte r studying the research problem, the literatures available on the \\ntopic and related topics and the general objectives of this study, the following research objectives \\nwere framed for pursuing it and making it effective: \\n\\uf0b7 Exploration of the developments duri ng the reign of Emperor Shah Jahan in various sectors like \\ndefense and military affairs, education, art and architecture, trade and commerce, economic \\ndevelopment and religion.  \\n\\uf0b7 Measuring the effectiveness of the policies of Emperor Shah Jahan in fields li ke religion, military \\nmatters, art and architecture, education, communal harmony, royalty collection etc.  \\n\\uf0b7 Exploration of the frustration within the empire due to growth of religious intolerance, lack of \\nappropriate use of military power, extravagant life s tyle of  Emperor Shah Jahan and the empire,'),\n",
            " Document(metadata={'producer': 'PDFium', 'creator': 'PDFium', 'creationdate': 'D:20251025011727', 'source': 'shahjahan.pdf', 'total_pages': 6, 'page': 3, 'page_label': '4'}, page_content='\\uf0b7 Exploration of the frustration within the empire due to growth of religious intolerance, lack of \\nappropriate use of military power, extravagant life s tyle of  Emperor Shah Jahan and the empire, \\ndeficiencies in the administration and foreign policies.'),\n",
            " Document(metadata={'producer': 'PDFium', 'creator': 'PDFium', 'creationdate': 'D:20251025011727', 'source': 'shahjahan.pdf', 'total_pages': 6, 'page': 4, 'page_label': '5'}, page_content='AIJRA Vol. I Issue III  www.ijcms2015.co  ISSN 2455-5967 \\n \\n The Mughal Empire Under Shah Jahan in Indian History: A Study  \\nHarish Chandra \\n \\n40.5 \\n\\uf0b7 Exploring if Emperor Shah Jahan was responsible for the prosperity, progress and peace during \\nhis reign.  \\n\\uf0b7 Evaluation of Shah Jahan as an emperor. \\n\\uf0b7 A comparison of Emperor Shah Jahan with the other great Mughal Emperors.  \\n\\uf0b7 Measuring the contributions of Emperor Shah Jahan towards the downfall of the Mughal Empire.  \\nScope of Study: \\n\\uf0b7 Reign of Emperor Shah Jahan. \\n\\uf0b7 His successes in fields like military, religious, business, art, architectural and administrative \\nactivities. \\n\\uf0b7 Failures of Emperor Shah Jahan.  \\n\\uf0b7 Exploration of the heavier side i.e. whether successes are heavier or failures.  \\nSignificance of the Study: \\n\\uf0b7 If the reign of Emperor Shah Jahan was a golden era of I ndian history, then why did the Mughal \\nEmpire face severe economic recession immediately after him when Emperor Aurangzeb \\nstarted to rule?'),\n",
            " Document(metadata={'producer': 'PDFium', 'creator': 'PDFium', 'creationdate': 'D:20251025011727', 'source': 'shahjahan.pdf', 'total_pages': 6, 'page': 4, 'page_label': '5'}, page_content='Empire face severe economic recession immediately after him when Emperor Aurangzeb \\nstarted to rule? \\n\\uf0b7 If the reign of Emperor Shah Jahan was not a golden era of Indian history then can he be held \\nresponsible for the downfall of the Mughal Empire and to what extent? \\nImportance of Research Methodology: \\nThe importance of research methodology can be summed up as follows:  \\n\\uf0b7 It enables the researcher to select the right research approach. \\n\\uf0b7 It helps in meeting the research objecti ves and finding out of the answers of the research \\nquestions. \\n\\uf0b7 It aims to construct synchronization between the research and the purposes for which the \\nresearch is being pursued. \\n\\uf0b7 It helps the researcher to choose a path and proceed with the research.  \\n\\uf0b7 It acts as the foundation of the research. \\nHypothesis: \\nA hypothesis is a specific statement of prediction. Not all studies have hypothesis or should have \\nhypothesis. This study is basic or pure or fundamental by nature. Generally in such studies'),\n",
            " Document(metadata={'producer': 'PDFium', 'creator': 'PDFium', 'creationdate': 'D:20251025011727', 'source': 'shahjahan.pdf', 'total_pages': 6, 'page': 4, 'page_label': '5'}, page_content='A hypothesis is a specific statement of prediction. Not all studies have hypothesis or should have \\nhypothesis. This study is basic or pure or fundamental by nature. Generally in such studies \\nresearchers are making an attempt to explore a research topic for  the first time. The purpose of these \\ntypes of studies is to develop a hypothesis that can be tested in future through even more thorough'),\n",
            " Document(metadata={'producer': 'PDFium', 'creator': 'PDFium', 'creationdate': 'D:20251025011727', 'source': 'shahjahan.pdf', 'total_pages': 6, 'page': 5, 'page_label': '6'}, page_content='AIJRA Vol. I Issue III  www.ijcms2015.co  ISSN 2455-5967 \\n \\n The Mughal Empire Under Shah Jahan in Indian History: A Study  \\nHarish Chandra \\n \\n40.6 \\nresearch. So in this study it is difficult to frame a hypothesis. Hence, effort is being made to frame \\nsome predictions that this study may offer at the end. In this study secondary data has been collected \\nfrom various websites, research articles published in journals and books. This data is expected to \\nhelp the scholar reach conclusions about Shah Jahan’s successes and f ailures in military activities, \\nadministration, economic development, trade and commerce, religious activities, contributions in art \\nand architecture. This comparison of successes and failures is expected to help reach the conclusion \\nabout which side was heavier. \\nLiterature Review: \\n1. Shujauddin, Mohammad; Shujauddin, Razia (1967).  The Life and Times of Noor Jahan. Lahore: \\nCaravan Book House. p. 121.'),\n",
            " Document(metadata={'producer': 'PDFium', 'creator': 'PDFium', 'creationdate': 'D:20251025011727', 'source': 'shahjahan.pdf', 'total_pages': 6, 'page': 5, 'page_label': '6'}, page_content=\"about which side was heavier. \\nLiterature Review: \\n1. Shujauddin, Mohammad; Shujauddin, Razia (1967).  The Life and Times of Noor Jahan. Lahore: \\nCaravan Book House. p. 121. \\n2. Richards, J.F. (1995).  Mughal empire  (Transferred to digital print edition). Cambridge, Eng.: \\nCambridge University Press. p. 127. ISBN 9780521566032. \\n3. Richards, J.F. (1995).  Mughal empire  (Transferred to digital print edition). Cambridge, Eng.: \\nCambridge University Press. p. 158. ISBN 9780521566032. \\n4. Jahangir, Tuzk-e-Jahangiri; The Emperor's memoirs \\n5. Nicoll, Fergus (2009). Shah Jahan. London: Haus. p. 56. ISBN 978-1-906598-18-1. \\n6. Sen, Sailendra (2013).  A Textbook of Medieval Indian History. Primus Books. pp.  169–\\n170. ISBN 978-93-80607-34-4. \\n7. Richards, John F. (1995). The Mughal Empire. Cambridge University Press.  \\n8. Desai, compiled and translated by W.E. Begley and Z.A.  (1989). Taj Mahal: the illumined tomb:\"),\n",
            " Document(metadata={'producer': 'PDFium', 'creator': 'PDFium', 'creationdate': 'D:20251025011727', 'source': 'shahjahan.pdf', 'total_pages': 6, 'page': 5, 'page_label': '6'}, page_content='7. Richards, John F. (1995). The Mughal Empire. Cambridge University Press.  \\n8. Desai, compiled and translated by W.E. Begley and Z.A.  (1989). Taj Mahal: the illumined tomb: \\nan anthology of seventeenth -century Mughal and European documentary sources. Cambridge, \\nMass.: Aga Khan Program for Islamic Architecture. p. 23. ISBN 9780295969442. \\nConclusions: \\nThis research dealt with a period that existed in hist ory about a few centuries ago. It was about \\nexploring if the reign of Emperor Shah Jahan can be called the golden era or not. For this purpose \\nsome research objectives were framed. Then research questions were deducted from these research \\nobjectives. Adequate data was collected and the research questions were answered in a tabular form \\nin the chapter on analysis and interpretations to show the linkage between the data collected, \\nanalysis done on the basis of that data and interpretations of the analysis tha t framed the answers of'),\n",
            " Document(metadata={'producer': 'PDFium', 'creator': 'PDFium', 'creationdate': 'D:20251025011727', 'source': 'shahjahan.pdf', 'total_pages': 6, 'page': 5, 'page_label': '6'}, page_content='analysis done on the basis of that data and interpretations of the analysis tha t framed the answers of \\nthe research questions.It is interesting to note in this context that the research questions united to \\nform a major research question which is the title of the paper i.e. can the reign of Emperor Shah Jahan \\nbe called the golden era of Indian history or not. In other words, it can be said that effort was made in \\nthis research to frame the answers of the research questions so that a conclusion can be reached \\nabout it. Research questions going ahead to frame a major research question wh ich is the title of the \\npaper is a unique case. It ensured that at the end it became necessary to answer the question which is')]\n"
          ]
        }
      ]
    },
    {
      "cell_type": "code",
      "source": [
        "!pip install -q langchain-chroma"
      ],
      "metadata": {
        "id": "xedHhukf5HaF"
      },
      "execution_count": null,
      "outputs": []
    },
    {
      "cell_type": "code",
      "source": [
        "from langchain_chroma import Chroma\n",
        "from langchain_google_genai import GoogleGenerativeAIEmbeddings\n",
        "\n",
        "embedding_model = GoogleGenerativeAIEmbeddings(\n",
        "    model=\"models/gemini-embedding-001\",\n",
        "    google_api_key=GOOGLE_API_KEY\n",
        ")\n",
        "\n",
        "# out = embedding_model.embed_query(\"Hello world\")\n",
        "# print(len(out)) #3072\n",
        "\n",
        "chroma_vector = Chroma(\n",
        "    collection_name=\"shahjahan\", #table name\n",
        "    persist_directory=\"shahjahan\", #folder name\n",
        "    embedding_function=embedding_model #embedding model wrapped in Langchain Class\n",
        ")"
      ],
      "metadata": {
        "colab": {
          "base_uri": "https://localhost:8080/"
        },
        "id": "4HM2oJty3Pi2",
        "outputId": "3dd2560c-177e-4b85-832f-3f88e57a7c32"
      },
      "execution_count": 34,
      "outputs": [
        {
          "output_type": "stream",
          "name": "stdout",
          "text": [
            "\u001b[?25l     \u001b[90m━━━━━━━━━━━━━━━━━━━━━━━━━━━━━━━━━━━━━━━━\u001b[0m \u001b[32m0.0/67.3 kB\u001b[0m \u001b[31m?\u001b[0m eta \u001b[36m-:--:--\u001b[0m\r\u001b[2K     \u001b[90m━━━━━━━━━━━━━━━━━━━━━━━━━━━━━━━━━━━━━━━━\u001b[0m \u001b[32m67.3/67.3 kB\u001b[0m \u001b[31m2.9 MB/s\u001b[0m eta \u001b[36m0:00:00\u001b[0m\n",
            "\u001b[?25h  Installing build dependencies ... \u001b[?25l\u001b[?25hdone\n",
            "  Getting requirements to build wheel ... \u001b[?25l\u001b[?25hdone\n",
            "  Preparing metadata (pyproject.toml) ... \u001b[?25l\u001b[?25hdone\n",
            "\u001b[2K   \u001b[90m━━━━━━━━━━━━━━━━━━━━━━━━━━━━━━━━━━━━━━━━\u001b[0m \u001b[32m20.7/20.7 MB\u001b[0m \u001b[31m40.6 MB/s\u001b[0m eta \u001b[36m0:00:00\u001b[0m\n",
            "\u001b[2K   \u001b[90m━━━━━━━━━━━━━━━━━━━━━━━━━━━━━━━━━━━━━━━━\u001b[0m \u001b[32m278.2/278.2 kB\u001b[0m \u001b[31m17.1 MB/s\u001b[0m eta \u001b[36m0:00:00\u001b[0m\n",
            "\u001b[2K   \u001b[90m━━━━━━━━━━━━━━━━━━━━━━━━━━━━━━━━━━━━━━━━\u001b[0m \u001b[32m2.0/2.0 MB\u001b[0m \u001b[31m55.6 MB/s\u001b[0m eta \u001b[36m0:00:00\u001b[0m\n",
            "\u001b[2K   \u001b[90m━━━━━━━━━━━━━━━━━━━━━━━━━━━━━━━━━━━━━━━━\u001b[0m \u001b[32m103.3/103.3 kB\u001b[0m \u001b[31m8.0 MB/s\u001b[0m eta \u001b[36m0:00:00\u001b[0m\n",
            "\u001b[2K   \u001b[90m━━━━━━━━━━━━━━━━━━━━━━━━━━━━━━━━━━━━━━━━\u001b[0m \u001b[32m17.4/17.4 MB\u001b[0m \u001b[31m70.6 MB/s\u001b[0m eta \u001b[36m0:00:00\u001b[0m\n",
            "\u001b[2K   \u001b[90m━━━━━━━━━━━━━━━━━━━━━━━━━━━━━━━━━━━━━━━━\u001b[0m \u001b[32m72.5/72.5 kB\u001b[0m \u001b[31m5.6 MB/s\u001b[0m eta \u001b[36m0:00:00\u001b[0m\n",
            "\u001b[2K   \u001b[90m━━━━━━━━━━━━━━━━━━━━━━━━━━━━━━━━━━━━━━━━\u001b[0m \u001b[32m132.3/132.3 kB\u001b[0m \u001b[31m11.2 MB/s\u001b[0m eta \u001b[36m0:00:00\u001b[0m\n",
            "\u001b[2K   \u001b[90m━━━━━━━━━━━━━━━━━━━━━━━━━━━━━━━━━━━━━━━━\u001b[0m \u001b[32m65.9/65.9 kB\u001b[0m \u001b[31m5.4 MB/s\u001b[0m eta \u001b[36m0:00:00\u001b[0m\n",
            "\u001b[2K   \u001b[90m━━━━━━━━━━━━━━━━━━━━━━━━━━━━━━━━━━━━━━━━\u001b[0m \u001b[32m208.0/208.0 kB\u001b[0m \u001b[31m16.3 MB/s\u001b[0m eta \u001b[36m0:00:00\u001b[0m\n",
            "\u001b[2K   \u001b[90m━━━━━━━━━━━━━━━━━━━━━━━━━━━━━━━━━━━━━━━━\u001b[0m \u001b[32m105.4/105.4 kB\u001b[0m \u001b[31m8.4 MB/s\u001b[0m eta \u001b[36m0:00:00\u001b[0m\n",
            "\u001b[2K   \u001b[90m━━━━━━━━━━━━━━━━━━━━━━━━━━━━━━━━━━━━━━━━\u001b[0m \u001b[32m71.6/71.6 kB\u001b[0m \u001b[31m5.5 MB/s\u001b[0m eta \u001b[36m0:00:00\u001b[0m\n",
            "\u001b[2K   \u001b[90m━━━━━━━━━━━━━━━━━━━━━━━━━━━━━━━━━━━━━━━━\u001b[0m \u001b[32m517.7/517.7 kB\u001b[0m \u001b[31m33.5 MB/s\u001b[0m eta \u001b[36m0:00:00\u001b[0m\n",
            "\u001b[2K   \u001b[90m━━━━━━━━━━━━━━━━━━━━━━━━━━━━━━━━━━━━━━━━\u001b[0m \u001b[32m128.4/128.4 kB\u001b[0m \u001b[31m10.0 MB/s\u001b[0m eta \u001b[36m0:00:00\u001b[0m\n",
            "\u001b[2K   \u001b[90m━━━━━━━━━━━━━━━━━━━━━━━━━━━━━━━━━━━━━━━━\u001b[0m \u001b[32m4.4/4.4 MB\u001b[0m \u001b[31m93.7 MB/s\u001b[0m eta \u001b[36m0:00:00\u001b[0m\n",
            "\u001b[2K   \u001b[90m━━━━━━━━━━━━━━━━━━━━━━━━━━━━━━━━━━━━━━━━\u001b[0m \u001b[32m456.8/456.8 kB\u001b[0m \u001b[31m21.9 MB/s\u001b[0m eta \u001b[36m0:00:00\u001b[0m\n",
            "\u001b[2K   \u001b[90m━━━━━━━━━━━━━━━━━━━━━━━━━━━━━━━━━━━━━━━━\u001b[0m \u001b[32m46.0/46.0 kB\u001b[0m \u001b[31m2.1 MB/s\u001b[0m eta \u001b[36m0:00:00\u001b[0m\n",
            "\u001b[2K   \u001b[90m━━━━━━━━━━━━━━━━━━━━━━━━━━━━━━━━━━━━━━━━\u001b[0m \u001b[32m86.8/86.8 kB\u001b[0m \u001b[31m5.0 MB/s\u001b[0m eta \u001b[36m0:00:00\u001b[0m\n",
            "\u001b[?25h  Building wheel for pypika (pyproject.toml) ... \u001b[?25l\u001b[?25hdone\n",
            "\u001b[31mERROR: pip's dependency resolver does not currently take into account all the packages that are installed. This behaviour is the source of the following dependency conflicts.\n",
            "google-colab 1.0.0 requires requests==2.32.4, but you have requests 2.32.5 which is incompatible.\n",
            "langchain 0.3.27 requires langchain-core<1.0.0,>=0.3.72, but you have langchain-core 1.0.1 which is incompatible.\n",
            "langchain 0.3.27 requires langchain-text-splitters<1.0.0,>=0.3.9, but you have langchain-text-splitters 1.0.0 which is incompatible.\n",
            "google-adk 1.16.0 requires opentelemetry-api<=1.37.0,>=1.37.0, but you have opentelemetry-api 1.38.0 which is incompatible.\n",
            "google-adk 1.16.0 requires opentelemetry-sdk<=1.37.0,>=1.37.0, but you have opentelemetry-sdk 1.38.0 which is incompatible.\n",
            "opentelemetry-exporter-otlp-proto-http 1.37.0 requires opentelemetry-exporter-otlp-proto-common==1.37.0, but you have opentelemetry-exporter-otlp-proto-common 1.38.0 which is incompatible.\n",
            "opentelemetry-exporter-otlp-proto-http 1.37.0 requires opentelemetry-proto==1.37.0, but you have opentelemetry-proto 1.38.0 which is incompatible.\n",
            "opentelemetry-exporter-otlp-proto-http 1.37.0 requires opentelemetry-sdk~=1.37.0, but you have opentelemetry-sdk 1.38.0 which is incompatible.\u001b[0m\u001b[31m\n",
            "\u001b[0m"
          ]
        }
      ]
    },
    {
      "cell_type": "code",
      "source": [
        "out = chroma_vector.add_documents(chunks)\n",
        "out"
      ],
      "metadata": {
        "colab": {
          "base_uri": "https://localhost:8080/"
        },
        "id": "ofTvxYtL5KW5",
        "outputId": "532cb1a2-2a18-42d1-a1bf-970d5491b4c0"
      },
      "execution_count": 41,
      "outputs": [
        {
          "output_type": "execute_result",
          "data": {
            "text/plain": [
              "['80e34e3e-d1b2-427a-940b-b614de3fdba8',\n",
              " '630e8e94-c1b8-4b84-b9fb-dc4216e64aa6',\n",
              " '91bcfe02-96f8-458c-a0f7-6562b6a5d918',\n",
              " '6d958841-4b19-4565-a553-8d58f7095472',\n",
              " '1b57c7f9-a38a-46a6-a269-ac1c01ce4c3b',\n",
              " 'a8e20ce6-2abb-4c17-8e9d-97d25872757d',\n",
              " '7f1fd5cf-cc88-4004-be43-ba050197df46',\n",
              " 'c1057609-e7f5-44de-8985-59cead4b8e25',\n",
              " 'f01b7adc-57e1-434a-87c3-38f3e91f818f',\n",
              " '5f8d07ad-c53b-412f-8aa3-5c5d12d81bab',\n",
              " '5e2a1862-d9fa-4982-a4fd-e107528f58ce',\n",
              " '325be261-6efd-4f00-9823-60ca1f3c34c1',\n",
              " 'a6bfa23e-6743-4443-a715-4a86c77256e2',\n",
              " '81c55369-c4e2-4dbd-8fa8-4b4f4316c125',\n",
              " 'd2a01791-6d1f-40ce-ac1c-2e170fd5eab1',\n",
              " 'df9a9bb3-d963-46d5-b258-607dac04a804',\n",
              " 'd57f7b51-95f5-41dc-b629-dd2ba7802931',\n",
              " '869bbe19-de48-46b8-b449-1065f089fc41',\n",
              " 'ac07c81e-684b-4e88-b960-7bf197c56d0b',\n",
              " '142a0192-7d9a-4553-a9cf-ef04044e3320',\n",
              " '0d4ea2ca-6164-4336-823a-5726a6ab6ebc',\n",
              " '4f421fe3-faac-4237-b4c9-d64b2acf4f2c']"
            ]
          },
          "metadata": {},
          "execution_count": 41
        }
      ]
    },
    {
      "cell_type": "code",
      "source": [
        "query = \"who was wife of shahjahan\"\n",
        "result = chroma_vector.similarity_search(query=query, k=2)\n",
        "result"
      ],
      "metadata": {
        "colab": {
          "base_uri": "https://localhost:8080/"
        },
        "id": "PmOdLHNe693M",
        "outputId": "2b4854a6-26d1-496d-b4a6-df898de70e3d"
      },
      "execution_count": 47,
      "outputs": [
        {
          "output_type": "execute_result",
          "data": {
            "text/plain": [
              "[Document(id='a8e20ce6-2abb-4c17-8e9d-97d25872757d', metadata={'source': 'shahjahan.pdf', 'creationdate': 'D:20251025011727', 'creator': 'PDFium', 'page': 1, 'producer': 'PDFium', 'total_pages': 6, 'page_label': '2'}, page_content='was ignorant about th e Empire and his subjects. So referring to Shah Jahan’s reign as the golden era \\nof Indian history raises question marks and looks like a distant dream. \\n \\nDate of Birth: January 5, 1592 \\nPlace of Birth: Lahore, Pakistan \\nBirth Name: Shahab-ud-din Muhammad Khurram \\nDate of Death: January 22, 1666 \\nPlace of Death: Agra, India \\nReign: January 19, 1628 to July 31, 1658 \\nSpouses: Kandahari Mahal, Akbarabadi Mahal, Mumtaz Mahal, Fatehpuri Mahal, Muti Begum \\nChildren: Aurangzeb, Dara Shukoh, Jahanara Begum, Shah Shuja,  Murad Bakhsh, Roshanara \\nBegum, Gauhara Begum, Parhez Banu Begum, Husnara Begum, Sultan Luftallah, Sultan Daulat \\nAfza, Huralnissa Begum, Shahzadi Surayya Banu Begum, Sultan Ummid Baksh \\nFather:Jahangir \\nMother: Jagat Gosaini'),\n",
              " Document(id='5f8d07ad-c53b-412f-8aa3-5c5d12d81bab', metadata={'producer': 'PDFium', 'page_label': '3', 'creationdate': 'D:20251025011727', 'creator': 'PDFium', 'total_pages': 6, 'page': 2, 'source': 'shahjahan.pdf'}, page_content='forces that took birth in this period. The reign of Sha h Jahan was one of the most peaceful periods in \\nIndian history.  \\nContribution to Mughal Architecture \\nShah Jahan was an avid builder and is responsible for building some of the most beautiful edifices \\nin present day India and Pakistan. It is said that many European travelers would visit his empire')]"
            ]
          },
          "metadata": {},
          "execution_count": 47
        }
      ]
    },
    {
      "cell_type": "code",
      "source": [
        "from langchain_core.prompts import PromptTemplate\n",
        "\n",
        "\n",
        "\n",
        "PROMPT = PromptTemplate(\n",
        "    template=\"\"\"\n",
        "    Use the following pieces of context to answer the question at the end. If you don't know the answer, just say that you don't know, don't try to make up an answer.\n",
        "    {context}\n",
        "    Question: {question}\n",
        "    \"\"\",\n",
        "    input_variables=[\"context\", \"question\"]\n",
        ")\n",
        "\n",
        "chain = PROMPT | model | parser\n",
        "\n",
        "out = chain.invoke({\n",
        "    \"context\": result[0],\n",
        "    \"question\": query\n",
        "})\n",
        "\n",
        "out"
      ],
      "metadata": {
        "colab": {
          "base_uri": "https://localhost:8080/"
        },
        "id": "FVcGTChc7l5k",
        "outputId": "4a2c0961-ab47-447a-ed9f-4ede2026aab1"
      },
      "execution_count": 49,
      "outputs": [
        {
          "output_type": "execute_result",
          "data": {
            "text/plain": [
              "AIMessage(content=\"Shah Jahan's wives were Kandahari Mahal, Akbarabadi Mahal, Mumtaz Mahal, Fatehpuri Mahal, and Muti Begum.\", additional_kwargs={}, response_metadata={'prompt_feedback': {'block_reason': 0, 'safety_ratings': []}, 'finish_reason': 'STOP', 'model_name': 'gemini-2.5-flash', 'safety_ratings': []}, id='run--e4fcd6a7-4594-4619-8c06-2cccc6bb3779-0', usage_metadata={'input_tokens': 386, 'output_tokens': 174, 'total_tokens': 560, 'input_token_details': {'cache_read': 0}, 'output_token_details': {'reasoning': 143}})"
            ]
          },
          "metadata": {},
          "execution_count": 49
        }
      ]
    }
  ],
  "metadata": {
    "colab": {
      "provenance": []
    },
    "kernelspec": {
      "display_name": "Python 3",
      "name": "python3"
    },
    "language_info": {
      "name": "python"
    }
  },
  "nbformat": 4,
  "nbformat_minor": 0
}